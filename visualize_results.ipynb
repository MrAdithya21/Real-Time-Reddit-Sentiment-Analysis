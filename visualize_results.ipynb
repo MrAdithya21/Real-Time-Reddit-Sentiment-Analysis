{
  "nbformat": 4,
  "nbformat_minor": 0,
  "metadata": {
    "colab": {
      "provenance": [],
      "authorship_tag": "ABX9TyPu2b0bYlMKgunKF+WPsmAx",
      "include_colab_link": true
    },
    "kernelspec": {
      "name": "python3",
      "display_name": "Python 3"
    },
    "language_info": {
      "name": "python"
    }
  },
  "cells": [
    {
      "cell_type": "markdown",
      "metadata": {
        "id": "view-in-github",
        "colab_type": "text"
      },
      "source": [
        "<a href=\"https://colab.research.google.com/github/MrAdithya21/Real-Time-Reddit-Sentiment-Analysis/blob/main/visualize_results.ipynb\" target=\"_parent\"><img src=\"https://colab.research.google.com/assets/colab-badge.svg\" alt=\"Open In Colab\"/></a>"
      ]
    },
    {
      "cell_type": "code",
      "execution_count": null,
      "metadata": {
        "id": "NqtQ12NETReq"
      },
      "outputs": [],
      "source": [
        "import pandas as pd\n",
        "\n",
        "# Load the dataset\n",
        "df = pd.read_csv(\"reddit_comments.csv\")\n",
        "\n",
        "# Display first few rows\n",
        "print(df.head())\n"
      ]
    },
    {
      "cell_type": "code",
      "source": [
        "df[\"timestamp\"] = pd.to_datetime(df[\"timestamp\"], unit=\"s\")\n",
        "print(df.head())"
      ],
      "metadata": {
        "id": "y7F_uNNVTU4C"
      },
      "execution_count": null,
      "outputs": []
    },
    {
      "cell_type": "markdown",
      "source": [
        "#Sentiment Distribution (Pie Chart)"
      ],
      "metadata": {
        "id": "d2WaihUgT1ab"
      }
    },
    {
      "cell_type": "code",
      "source": [
        "import matplotlib.pyplot as plt\n",
        "\n",
        "# Count of each sentiment\n",
        "sentiment_counts = df[\"sentiment\"].value_counts()\n",
        "\n",
        "# Plot pie chart\n",
        "plt.figure(figsize=(6,6))\n",
        "plt.pie(sentiment_counts, labels=sentiment_counts.index, autopct=\"%1.1f%%\", startangle=90)\n",
        "plt.title(\"Sentiment Distribution of Reddit Comments\")\n",
        "plt.show()"
      ],
      "metadata": {
        "id": "eY37zyr3TXsX"
      },
      "execution_count": null,
      "outputs": []
    },
    {
      "cell_type": "markdown",
      "source": [
        "#Most Engaged Users (Bar Chart)"
      ],
      "metadata": {
        "id": "37keiyw3TxlB"
      }
    },
    {
      "cell_type": "code",
      "source": [
        "top_users = df[\"user\"].value_counts().head(10)\n",
        "\n",
        "# Plot bar chart\n",
        "plt.figure(figsize=(10,5))\n",
        "sns.barplot(x=top_users.values, y=top_users.index, palette=\"viridis\")\n",
        "plt.title(\"Top 10 Most Active Users\")\n",
        "plt.xlabel(\"Number of Comments\")\n",
        "plt.ylabel(\"Users\")\n",
        "plt.show()\n"
      ],
      "metadata": {
        "id": "A23EXGi5TaD5"
      },
      "execution_count": null,
      "outputs": []
    },
    {
      "cell_type": "markdown",
      "source": [
        "#Most Frequent Words (Word Cloud)"
      ],
      "metadata": {
        "id": "WYRx3eX_TuSG"
      }
    },
    {
      "cell_type": "code",
      "source": [
        "from wordcloud import WordCloud\n",
        "import nltk\n",
        "from nltk.corpus import stopwords\n",
        "import string\n",
        "\n",
        "# Download stopwords\n",
        "nltk.download(\"stopwords\")\n",
        "stop_words = set(stopwords.words(\"english\") + list(string.punctuation))\n",
        "\n",
        "# Function to preprocess text\n",
        "def clean_text(text):\n",
        "    words = text.lower().split()\n",
        "    words = [word for word in words if word not in stop_words and len(word) > 2]\n",
        "    return \" \".join(words)\n",
        "\n",
        "# Generate Word Clouds\n",
        "for sentiment in [\"positive\", \"negative\"]:\n",
        "    text_data = \" \".join(df[df[\"sentiment\"] == sentiment][\"text\"].dropna().apply(clean_text))\n",
        "    wordcloud = WordCloud(width=800, height=400, background_color=\"white\").generate(text_data)\n",
        "\n",
        "    plt.figure(figsize=(10,5))\n",
        "    plt.imshow(wordcloud, interpolation=\"bilinear\")\n",
        "    plt.title(f\"Most Common Words in {sentiment.capitalize()} Comments\")\n",
        "    plt.axis(\"off\")\n",
        "    plt.show()"
      ],
      "metadata": {
        "id": "LrEuJVk7Tc48"
      },
      "execution_count": null,
      "outputs": []
    }
  ]
}