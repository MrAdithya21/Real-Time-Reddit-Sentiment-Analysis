{
  "nbformat": 4,
  "nbformat_minor": 0,
  "metadata": {
    "colab": {
      "provenance": [],
      "authorship_tag": "ABX9TyO7+kZWv9J8HrGYu2P8F+gH",
      "include_colab_link": true
    },
    "kernelspec": {
      "name": "python3",
      "display_name": "Python 3"
    },
    "language_info": {
      "name": "python"
    }
  },
  "cells": [
    {
      "cell_type": "markdown",
      "metadata": {
        "id": "view-in-github",
        "colab_type": "text"
      },
      "source": [
        "<a href=\"https://colab.research.google.com/github/MrAdithya21/Real-Time-Reddit-Sentiment-Analysis/blob/main/store_in_azure.ipynb\" target=\"_parent\"><img src=\"https://colab.research.google.com/assets/colab-badge.svg\" alt=\"Open In Colab\"/></a>"
      ]
    },
    {
      "cell_type": "code",
      "execution_count": null,
      "metadata": {
        "id": "ZGywu53PRJZa"
      },
      "outputs": [],
      "source": [
        "import json\n",
        "import os\n",
        "from azure.storage.queue import QueueClient\n",
        "from azure.storage.blob import BlobServiceClient\n",
        "\n",
        "# Load Azure connection strings from environment variables\n",
        "AZURE_STORAGE_CONNECTION_STRING = os.getenv(\"AZURE_STORAGE_CONNECTION_STRING\")\n",
        "QUEUE_NAME = \"reddit-comments\"\n",
        "BLOB_CONTAINER_NAME = \"reddit-data\"\n",
        "\n",
        "# Azure Storage Queue Connection\n",
        "queue_client = QueueClient.from_connection_string(AZURE_STORAGE_CONNECTION_STRING, QUEUE_NAME)\n",
        "\n",
        "# Azure Blob Storage Connection\n",
        "blob_service_client = BlobServiceClient.from_connection_string(AZURE_STORAGE_CONNECTION_STRING)\n",
        "container_client = blob_service_client.get_container_client(BLOB_CONTAINER_NAME)\n",
        "\n",
        "# Retrieve Messages from Queue & Store in Blob\n",
        "messages = queue_client.receive_messages(messages_per_page=10)\n",
        "\n",
        "for msg in messages:\n",
        "    blob_name = f\"comment-{msg.id}.json\"\n",
        "    blob_client = container_client.get_blob_client(blob_name)\n",
        "    blob_client.upload_blob(msg.content, overwrite=True)\n",
        "    print(f\"Stored {blob_name} in Blob Storage.\")\n",
        "    queue_client.delete_message(msg)  # Remove message after processing\n"
      ]
    }
  ]
}