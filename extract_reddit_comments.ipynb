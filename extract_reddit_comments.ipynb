{
  "nbformat": 4,
  "nbformat_minor": 0,
  "metadata": {
    "colab": {
      "provenance": [],
      "authorship_tag": "ABX9TyMLwNo1Dlzva+uz6lph4UwB",
      "include_colab_link": true
    },
    "kernelspec": {
      "name": "python3",
      "display_name": "Python 3"
    },
    "language_info": {
      "name": "python"
    }
  },
  "cells": [
    {
      "cell_type": "markdown",
      "metadata": {
        "id": "view-in-github",
        "colab_type": "text"
      },
      "source": [
        "<a href=\"https://colab.research.google.com/github/MrAdithya21/Real-Time-Reddit-Sentiment-Analysis/blob/main/extract_reddit_comments.ipynb\" target=\"_parent\"><img src=\"https://colab.research.google.com/assets/colab-badge.svg\" alt=\"Open In Colab\"/></a>"
      ]
    },
    {
      "cell_type": "code",
      "execution_count": null,
      "metadata": {
        "id": "i-mdtHPdREPn"
      },
      "outputs": [],
      "source": [
        "import praw\n",
        "import json\n",
        "import os\n",
        "from azure.storage.queue import QueueClient\n",
        "\n",
        "# Load credentials securely from environment variables\n",
        "REDDIT_CLIENT_ID = os.getenv(\"REDDIT_CLIENT_ID\")\n",
        "REDDIT_CLIENT_SECRET = os.getenv(\"REDDIT_CLIENT_SECRET\")\n",
        "REDDIT_USER_AGENT = os.getenv(\"REDDIT_USER_AGENT\")\n",
        "\n",
        "AZURE_STORAGE_CONNECTION_STRING = os.getenv(\"AZURE_STORAGE_CONNECTION_STRING\")\n",
        "QUEUE_NAME = \"reddit-comments\"\n",
        "\n",
        "# Initialize Reddit API with secure credentials\n",
        "reddit = praw.Reddit(client_id=REDDIT_CLIENT_ID,\n",
        "                     client_secret=REDDIT_CLIENT_SECRET,\n",
        "                     user_agent=REDDIT_USER_AGENT)\n",
        "\n",
        "# Azure Storage Queue Connection\n",
        "queue_client = QueueClient.from_connection_string(AZURE_STORAGE_CONNECTION_STRING, QUEUE_NAME)\n",
        "\n",
        "# Define parameters\n",
        "max_comments = 100  # Limit to 100 comments\n",
        "batch_size = 10  # Send messages in batches\n",
        "buffer = []  # Temporary storage for batching\n",
        "comment_count = 0  # Counter\n",
        "\n",
        "# Stream Reddit Comments\n",
        "subreddit = reddit.subreddit(\"technology\")\n",
        "\n",
        "try:\n",
        "    for comment in subreddit.stream.comments(skip_existing=True):\n",
        "        comment_data = {\n",
        "            \"text\": comment.body,\n",
        "            \"timestamp\": comment.created_utc,\n",
        "            \"user\": comment.author.name\n",
        "        }\n",
        "        buffer.append(comment_data)\n",
        "        comment_count += 1\n",
        "\n",
        "        # Send batch to Azure Queue every 10 comments\n",
        "        if len(buffer) >= batch_size:\n",
        "            queue_client.send_message(json.dumps(buffer))\n",
        "            print(f\"Sent {len(buffer)} comments to Azure Queue.\")\n",
        "            buffer = []  # Clear buffer after sending\n",
        "\n",
        "        # Stop after collecting 100 comments\n",
        "        if comment_count >= max_comments:\n",
        "            print(f\"Collected {max_comments} comments. Stopping now.\")\n",
        "            break\n",
        "\n",
        "except Exception as e:\n",
        "    print(f\"Error: {e}\")\n",
        "\n",
        "# Send remaining comments if buffer is not empty\n",
        "if buffer:\n",
        "    queue_client.send_message(json.dumps(buffer))\n",
        "    print(f\"Sent remaining {len(buffer)} comments.\")\n"
      ]
    }
  ]
}