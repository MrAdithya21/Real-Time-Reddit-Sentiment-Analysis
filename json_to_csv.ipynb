{
  "nbformat": 4,
  "nbformat_minor": 0,
  "metadata": {
    "colab": {
      "provenance": [],
      "authorship_tag": "ABX9TyMTPK6zbcH9fk1dNg19eCoo",
      "include_colab_link": true
    },
    "kernelspec": {
      "name": "python3",
      "display_name": "Python 3"
    },
    "language_info": {
      "name": "python"
    }
  },
  "cells": [
    {
      "cell_type": "markdown",
      "metadata": {
        "id": "view-in-github",
        "colab_type": "text"
      },
      "source": [
        "<a href=\"https://colab.research.google.com/github/MrAdithya21/Real-Time-Reddit-Sentiment-Analysis/blob/main/json_to_csv.ipynb\" target=\"_parent\"><img src=\"https://colab.research.google.com/assets/colab-badge.svg\" alt=\"Open In Colab\"/></a>"
      ]
    },
    {
      "cell_type": "code",
      "execution_count": null,
      "metadata": {
        "id": "TfidIbrVRNo1"
      },
      "outputs": [],
      "source": [
        "from azure.storage.blob import BlobServiceClient\n",
        "import json\n",
        "import pandas as pd\n",
        "\n",
        "# 🔹 Azure Storage Account details\n",
        "storage_account_name = \"redditdatastream\"  # Your storage account name\n",
        "container_name = \"reddit-data\"  # The container where files are stored\n",
        "folder_name = \"processed\"  # Folder where JSON files are stored\n",
        "sas_token = \"sv=2022-11-02&ss=bfqt&srt=sco&sp=rwdlacupiytfx&se=2025-03-01T06:54:22Z&st=2025-02-23T22:54:22Z&spr=https&sig=J1RifDSIE4w4uMomjp8QRuH2vi0whNEvGv4qnVuOjHA%3D\"  # Copy the generated SAS Token\n",
        "\n",
        "# 🔹 Connect to Blob Storage\n",
        "blob_service_client = BlobServiceClient(\n",
        "    f\"https://{storage_account_name}.blob.core.windows.net?{sas_token}\")\n",
        "\n",
        "container_client = blob_service_client.get_container_client(container_name)\n",
        "\n",
        "# 🔹 List all JSON files (Ignore system-generated files)\n",
        "blob_list = [blob for blob in container_client.list_blobs(name_starts_with=f\"{folder_name}/\")\n",
        "             if not any(x in blob.name for x in [\"_SUCCESS\", \"_committed\", \"_started\"])]\n",
        "\n",
        "data = []\n",
        "\n",
        "# 🔹 Read and process JSON files\n",
        "for blob in blob_list:\n",
        "    print(f\"Downloading: {blob.name}\")\n",
        "    blob_client = container_client.get_blob_client(blob.name)\n",
        "    blob_data = blob_client.download_blob().readall()\n",
        "\n",
        "    try:\n",
        "        # 🔹 Read Multi-line JSON properly\n",
        "        for line in blob_data.decode(\"utf-8\").split(\"\\n\"):\n",
        "            if line.strip():  # Ignore empty lines\n",
        "                json_data = json.loads(line)\n",
        "                data.append(json_data)\n",
        "    except Exception as e:\n",
        "        print(f\"❌ Error parsing JSON file {blob.name}: {e}\")\n",
        "\n",
        "# 🔹 Convert to DataFrame\n",
        "df = pd.DataFrame(data)\n",
        "\n",
        "# 🔹 Display first 5 rows\n",
        "print(df.head())\n",
        "\n",
        "# 🔹 Save DataFrame to CSV (Optional)\n",
        "df.to_csv(\"reddit_comments.csv\", index=False)\n",
        "print(\"✅ Data saved as 'reddit_comments.csv'\")\n"
      ]
    }
  ]
}